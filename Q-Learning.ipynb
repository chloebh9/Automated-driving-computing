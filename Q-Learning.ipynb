{
 "cells": [
  {
   "cell_type": "code",
   "execution_count": null,
   "id": "f4c1a478",
   "metadata": {},
   "outputs": [],
   "source": []
  },
  {
   "cell_type": "code",
   "execution_count": 1,
   "id": "150881b2",
   "metadata": {
    "scrolled": true
   },
   "outputs": [
    {
     "name": "stderr",
     "output_type": "stream",
     "text": [
      "\n"
     ]
    }
   ],
   "source": [
    "import numpy as np\n",
    "import os\n",
    "import pandas as pd\n",
    "import random\n",
    "from collections import defaultdict\n",
    "import gym\n",
    "import gym_minigrid\n",
    "import matplotlib.pyplot as plt\n",
    "%matplotlib inline"
   ]
  },
  {
   "cell_type": "code",
   "execution_count": 8,
   "id": "bb3475c0",
   "metadata": {
    "scrolled": true
   },
   "outputs": [],
   "source": [
    "class QLearning:\n",
    "    def __init__(self, actions, agent_indicator=10):\n",
    "        self.actions = actions\n",
    "        self.agent_indicator = agent_indicator\n",
    "        self.alpha = 0.01\n",
    "        self.gamma = 0.9\n",
    "        self.epsilon = 0.2\n",
    "        self.q_values = defaultdict(lambda: [0.0] * actions)\n",
    "\n",
    "    def _convert_state(self, s):\n",
    "        return np.where(s == self.agent_indicator)[0][0]\n",
    "\n",
    "    def update(self, state, action, reward, next_state, next_action):\n",
    "        state = self._convert_state(state)\n",
    "        next_state = self._convert_state(next_state)\n",
    "\n",
    "        q_value = self.q_values[state][action]\n",
    "\n",
    "        ################## write code ################################\n",
    "        next_q_value = max(self.q_values[next_state])\n",
    "\n",
    "        td_error = reward + self.gamma * next_q_value - q_value\n",
    "        self.q_values[state][action] = q_value + self.alpha * td_error\n",
    "        ##############################################################\n",
    "\n",
    "    def act(self, state):\n",
    "        if np.random.rand() < self.epsilon:\n",
    "            action = np.random.choice(self.actions)\n",
    "        else:\n",
    "            state = self._convert_state(state)\n",
    "            q_values = self.q_values[state]\n",
    "            action = np.argmax(q_values)\n",
    "        return action"
   ]
  },
  {
   "cell_type": "code",
   "execution_count": 9,
   "id": "90706d6e",
   "metadata": {
    "scrolled": true
   },
   "outputs": [],
   "source": [
    "from utils import gen_wrapped_env, show_video"
   ]
  },
  {
   "cell_type": "code",
   "execution_count": 10,
   "id": "d048dbff",
   "metadata": {
    "scrolled": true
   },
   "outputs": [],
   "source": [
    "env = gen_wrapped_env('MiniGrid-Empty-6x6-v0')\n",
    "\n",
    "obs = env.reset()\n",
    "\n",
    "agent_position = obs[0]\n",
    "\n",
    "agent = QLearning(3, agent_position)"
   ]
  },
  {
   "cell_type": "markdown",
   "id": "e79aa8d2-fca8-4b2e-8127-d4c0469c52d1",
   "metadata": {},
   "source": [
    "## For Q-Learning\n",
    "+ Q-learning update"
   ]
  },
  {
   "cell_type": "code",
   "execution_count": 11,
   "id": "f7e8c55c",
   "metadata": {
    "scrolled": true
   },
   "outputs": [
    {
     "name": "stdout",
     "output_type": "stream",
     "text": [
      "episode: 20, rewards: 0\n",
      "episode: 40, rewards: 0\n",
      "episode: 60, rewards: 0\n",
      "episode: 80, rewards: 0\n",
      "episode: 100, rewards: 0\n",
      "episode: 120, rewards: 0\n",
      "episode: 140, rewards: 0\n",
      "episode: 160, rewards: 0\n",
      "episode: 180, rewards: 0\n",
      "episode: 200, rewards: 0\n",
      "episode: 220, rewards: 0\n",
      "episode: 240, rewards: 0\n",
      "episode: 260, rewards: 0\n",
      "episode: 280, rewards: 0\n",
      "episode: 300, rewards: 0\n",
      "episode: 320, rewards: 0\n",
      "episode: 340, rewards: 0\n",
      "episode: 360, rewards: 0\n",
      "episode: 380, rewards: 0\n",
      "episode: 400, rewards: 0\n",
      "episode: 420, rewards: 0\n",
      "episode: 440, rewards: 0\n",
      "episode: 460, rewards: 0\n",
      "episode: 480, rewards: 0\n",
      "episode: 500, rewards: 0\n",
      "episode: 520, rewards: 0\n",
      "episode: 540, rewards: 0\n",
      "episode: 560, rewards: 0\n",
      "episode: 580, rewards: 0\n",
      "episode: 600, rewards: 0\n",
      "episode: 620, rewards: 0\n",
      "episode: 640, rewards: 0\n",
      "episode: 660, rewards: 0\n",
      "episode: 680, rewards: 0\n",
      "episode: 700, rewards: 0\n",
      "episode: 720, rewards: 0\n",
      "episode: 740, rewards: 0\n",
      "episode: 760, rewards: 0\n",
      "episode: 780, rewards: 0\n",
      "episode: 800, rewards: 0\n",
      "episode: 820, rewards: 0\n",
      "episode: 840, rewards: 0\n",
      "episode: 860, rewards: 0\n",
      "episode: 880, rewards: 0\n",
      "episode: 900, rewards: 0\n",
      "episode: 920, rewards: 0\n",
      "episode: 940, rewards: 0\n",
      "episode: 960, rewards: 0\n",
      "episode: 980, rewards: 0\n",
      "episode: 1000, rewards: 0\n",
      "episode: 1020, rewards: 0\n",
      "episode: 1040, rewards: 0\n",
      "episode: 1060, rewards: 0\n",
      "episode: 1080, rewards: 0\n",
      "episode: 1100, rewards: 0\n",
      "episode: 1120, rewards: 0\n",
      "episode: 1140, rewards: 0\n",
      "episode: 1160, rewards: 0\n",
      "episode: 1180, rewards: 0\n",
      "episode: 1200, rewards: 0\n",
      "episode: 1220, rewards: 0\n",
      "episode: 1240, rewards: 0\n",
      "episode: 1260, rewards: 0\n",
      "episode: 1280, rewards: 0\n",
      "episode: 1300, rewards: 0\n",
      "episode: 1320, rewards: 0\n",
      "episode: 1340, rewards: 0\n",
      "episode: 1360, rewards: 0\n",
      "episode: 1380, rewards: 0\n",
      "episode: 1400, rewards: 0\n",
      "episode: 1420, rewards: 0\n",
      "episode: 1440, rewards: 0\n",
      "episode: 1460, rewards: 0\n",
      "episode: 1480, rewards: 0\n",
      "episode: 1500, rewards: 0\n",
      "episode: 1520, rewards: 0\n",
      "episode: 1540, rewards: 0\n",
      "episode: 1560, rewards: 0\n",
      "episode: 1580, rewards: 0\n",
      "episode: 1600, rewards: 0\n",
      "episode: 1620, rewards: 0\n",
      "episode: 1640, rewards: 0\n",
      "episode: 1660, rewards: 0\n",
      "episode: 1680, rewards: 0\n",
      "episode: 1700, rewards: 0\n",
      "episode: 1720, rewards: 0\n",
      "episode: 1740, rewards: 0\n",
      "episode: 1760, rewards: 0\n",
      "episode: 1780, rewards: 0\n",
      "episode: 1800, rewards: 0\n",
      "episode: 1820, rewards: 0\n",
      "episode: 1840, rewards: 0\n",
      "episode: 1860, rewards: 0\n",
      "episode: 1880, rewards: 0\n",
      "episode: 1900, rewards: 0\n",
      "episode: 1920, rewards: 0\n",
      "episode: 1940, rewards: 0\n",
      "episode: 1960, rewards: 0.82\n",
      "episode: 1980, rewards: 0.6579999999999999\n",
      "episode: 2000, rewards: 0.09999999999999998\n",
      "episode: 2020, rewards: 0\n",
      "episode: 2040, rewards: 0\n",
      "episode: 2060, rewards: 0.5680000000000001\n",
      "episode: 2080, rewards: 0\n",
      "episode: 2100, rewards: 0\n",
      "episode: 2120, rewards: 0\n",
      "episode: 2140, rewards: 0\n",
      "episode: 2160, rewards: 0.6759999999999999\n",
      "episode: 2180, rewards: 0.748\n",
      "episode: 2200, rewards: 0.3879999999999999\n",
      "episode: 2220, rewards: 0.604\n",
      "episode: 2240, rewards: 0\n",
      "episode: 2260, rewards: 0.31599999999999995\n",
      "episode: 2280, rewards: 0\n",
      "episode: 2300, rewards: 0.4959999999999999\n",
      "episode: 2320, rewards: 0\n",
      "episode: 2340, rewards: 0\n",
      "episode: 2360, rewards: 0.748\n",
      "episode: 2380, rewards: 0.478\n",
      "episode: 2400, rewards: 0\n",
      "episode: 2420, rewards: 0.6759999999999999\n",
      "episode: 2440, rewards: 0\n",
      "episode: 2460, rewards: 0.5680000000000001\n",
      "episode: 2480, rewards: 0\n",
      "episode: 2500, rewards: 0\n",
      "episode: 2520, rewards: 0.42399999999999993\n",
      "episode: 2540, rewards: 0\n",
      "episode: 2560, rewards: 0\n",
      "episode: 2580, rewards: 0\n",
      "episode: 2600, rewards: 0\n",
      "episode: 2620, rewards: 0.478\n",
      "episode: 2640, rewards: 0.09999999999999998\n",
      "episode: 2660, rewards: 0\n",
      "episode: 2680, rewards: 0\n",
      "episode: 2700, rewards: 0\n",
      "episode: 2720, rewards: 0.694\n",
      "episode: 2740, rewards: 0\n",
      "episode: 2760, rewards: 0\n",
      "episode: 2780, rewards: 0\n",
      "episode: 2800, rewards: 0\n",
      "episode: 2820, rewards: 0.6579999999999999\n",
      "episode: 2840, rewards: 0\n",
      "episode: 2860, rewards: 0.42399999999999993\n",
      "episode: 2880, rewards: 0.784\n",
      "episode: 2900, rewards: 0\n",
      "episode: 2920, rewards: 0.532\n",
      "episode: 2940, rewards: 0.874\n",
      "episode: 2960, rewards: 0\n",
      "episode: 2980, rewards: 0\n",
      "episode: 3000, rewards: 0.6399999999999999\n",
      "episode: 3020, rewards: 0.82\n",
      "episode: 3040, rewards: 0.262\n",
      "episode: 3060, rewards: 0\n",
      "episode: 3080, rewards: 0\n",
      "episode: 3100, rewards: 0\n",
      "episode: 3120, rewards: 0.17199999999999993\n",
      "episode: 3140, rewards: 0\n",
      "episode: 3160, rewards: 0.838\n",
      "episode: 3180, rewards: 0.262\n",
      "episode: 3200, rewards: 0.802\n",
      "episode: 3220, rewards: 0.18999999999999995\n",
      "episode: 3240, rewards: 0\n",
      "episode: 3260, rewards: 0\n",
      "episode: 3280, rewards: 0.766\n",
      "episode: 3300, rewards: 0.6579999999999999\n",
      "episode: 3320, rewards: 0\n",
      "episode: 3340, rewards: 0\n",
      "episode: 3360, rewards: 0\n",
      "episode: 3380, rewards: 0.802\n",
      "episode: 3400, rewards: 0.766\n",
      "episode: 3420, rewards: 0\n",
      "episode: 3440, rewards: 0\n",
      "episode: 3460, rewards: 0.73\n",
      "episode: 3480, rewards: 0\n",
      "episode: 3500, rewards: 0\n",
      "episode: 3520, rewards: 0.802\n",
      "episode: 3540, rewards: 0.874\n",
      "episode: 3560, rewards: 0.748\n",
      "episode: 3580, rewards: 0.2799999999999999\n",
      "episode: 3600, rewards: 0.118\n",
      "episode: 3620, rewards: 0.31599999999999995\n",
      "episode: 3640, rewards: 0.37\n",
      "episode: 3660, rewards: 0\n",
      "episode: 3680, rewards: 0\n",
      "episode: 3700, rewards: 0.09999999999999998\n",
      "episode: 3720, rewards: 0.838\n",
      "episode: 3740, rewards: 0\n",
      "episode: 3760, rewards: 0.766\n",
      "episode: 3780, rewards: 0.244\n",
      "episode: 3800, rewards: 0\n",
      "episode: 3820, rewards: 0.29799999999999993\n",
      "episode: 3840, rewards: 0.262\n",
      "episode: 3860, rewards: 0.22599999999999998\n",
      "episode: 3880, rewards: 0\n",
      "episode: 3900, rewards: 0.586\n",
      "episode: 3920, rewards: 0\n",
      "episode: 3940, rewards: 0.6399999999999999\n",
      "episode: 3960, rewards: 0.766\n",
      "episode: 3980, rewards: 0\n",
      "episode: 4000, rewards: 0\n",
      "episode: 4020, rewards: 0\n",
      "episode: 4040, rewards: 0\n",
      "episode: 4060, rewards: 0.42399999999999993\n",
      "episode: 4080, rewards: 0\n",
      "episode: 4100, rewards: 0.352\n",
      "episode: 4120, rewards: 0.6759999999999999\n",
      "episode: 4140, rewards: 0\n",
      "episode: 4160, rewards: 0.586\n",
      "episode: 4180, rewards: 0.37\n",
      "episode: 4200, rewards: 0.29799999999999993\n",
      "episode: 4220, rewards: 0.802\n",
      "episode: 4240, rewards: 0.31599999999999995\n",
      "episode: 4260, rewards: 0.838\n",
      "episode: 4280, rewards: 0.802\n",
      "episode: 4300, rewards: 0.874\n",
      "episode: 4320, rewards: 0\n",
      "episode: 4340, rewards: 0\n",
      "episode: 4360, rewards: 0\n",
      "episode: 4380, rewards: 0.244\n",
      "episode: 4400, rewards: 0.694\n",
      "episode: 4420, rewards: 0.73\n",
      "episode: 4440, rewards: 0\n",
      "episode: 4460, rewards: 0.37\n",
      "episode: 4480, rewards: 0\n",
      "episode: 4500, rewards: 0\n",
      "episode: 4520, rewards: 0.874\n",
      "episode: 4540, rewards: 0\n",
      "episode: 4560, rewards: 0\n",
      "episode: 4580, rewards: 0.22599999999999998\n",
      "episode: 4600, rewards: 0\n",
      "episode: 4620, rewards: 0.33399999999999996\n",
      "episode: 4640, rewards: 0.748\n",
      "episode: 4660, rewards: 0.874\n",
      "episode: 4680, rewards: 0.838\n",
      "episode: 4700, rewards: 0\n",
      "episode: 4720, rewards: 0.3879999999999999\n",
      "episode: 4740, rewards: 0\n",
      "episode: 4760, rewards: 0.874\n",
      "episode: 4780, rewards: 0\n",
      "episode: 4800, rewards: 0\n",
      "episode: 4820, rewards: 0.262\n",
      "episode: 4840, rewards: 0\n",
      "episode: 4860, rewards: 0\n",
      "episode: 4880, rewards: 0.29799999999999993\n",
      "episode: 4900, rewards: 0\n",
      "episode: 4920, rewards: 0\n",
      "episode: 4940, rewards: 0\n",
      "episode: 4960, rewards: 0.4959999999999999\n",
      "episode: 4980, rewards: 0\n",
      "episode: 5000, rewards: 0.874\n"
     ]
    }
   ],
   "source": [
    "rewards = []\n",
    "for ep in range(5000):\n",
    "    done = False\n",
    "    obs = env.reset()\n",
    "    action = agent.act(obs)\n",
    "    \n",
    "    ep_rewards = 0\n",
    "    while not done:\n",
    "        next_obs, reward, done, info = env.step(action)\n",
    "\n",
    "        next_action = agent.act(next_obs)\n",
    "\n",
    "        agent.update(obs, action, reward, next_obs, next_action)\n",
    "        \n",
    "        ep_rewards += reward\n",
    "        obs = next_obs\n",
    "        action = next_action\n",
    "    rewards.append(ep_rewards)\n",
    "    if (ep+1) % 20 == 0:\n",
    "        print(\"episode: {}, rewards: {}\".format(ep+1, ep_rewards))\n",
    "env.close()"
   ]
  },
  {
   "cell_type": "code",
   "execution_count": 12,
   "id": "a086e2cd",
   "metadata": {},
   "outputs": [
    {
     "data": {
      "text/plain": [
       "{0: [0.03317, 0.03325, 0.0383],\n",
       " 3: [0.01298, 0.01286, 0.0294],\n",
       " 12: [0.05185, 0.05325, 0.06592],\n",
       " 15: [0.0087, 0.01215, 0.0725],\n",
       " 6: [0.01686, 0.01401, 0.0343],\n",
       " 9: [0.03651, 0.0361, 0.04581],\n",
       " 18: [0.01343, 0.01183, 0.11017],\n",
       " 24: [0.07237, 0.07392, 0.08907],\n",
       " 21: [0.0957, 0.09547, 0.16839],\n",
       " 27: [0.02789, 0.03191, 0.18422],\n",
       " 36: [0.0899, 0.08994, 0.10937],\n",
       " 39: [0.30767, 0.29096, 0.39906],\n",
       " 30: [0.03391, 0.05052, 0.24201],\n",
       " 42: [0.39787, 0.40029, 0.55774],\n",
       " 33: [0.2068, 0.21225, 0.32875],\n",
       " 45: [0.0, 0.0, 0.0]}"
      ]
     },
     "execution_count": 12,
     "metadata": {},
     "output_type": "execute_result"
    }
   ],
   "source": [
    "{s:np.round(q, 5).tolist() for s, q in agent.q_values.items()}"
   ]
  },
  {
   "cell_type": "code",
   "execution_count": 13,
   "id": "77e3015b",
   "metadata": {},
   "outputs": [
    {
     "data": {
      "text/html": [
       "<video alt=\"test\" autoplay \n",
       "                loop controls style=\"height: 400px;\">\n",
       "                <source src=\"data:video/mp4;base64,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\" type=\"video/mp4\" />\n",
       "             </video>"
      ],
      "text/plain": [
       "<IPython.core.display.HTML object>"
      ]
     },
     "metadata": {},
     "output_type": "display_data"
    }
   ],
   "source": [
    "show_video()"
   ]
  },
  {
   "cell_type": "code",
   "execution_count": 14,
   "id": "42787cff",
   "metadata": {},
   "outputs": [],
   "source": [
    "os.makedirs('./logs', exist_ok=True)\n",
    "pd.Series(rewards).to_csv('./logs/rewards_qlearning.csv')"
   ]
  },
  {
   "cell_type": "code",
   "execution_count": 15,
   "id": "da141489",
   "metadata": {},
   "outputs": [],
   "source": [
    "sarsa_logs = pd.read_csv('./logs/rewards_sarsa.csv', index_col=False).iloc[:, 1]\n",
    "q_logs = pd.read_csv('./logs/rewards_qlearning.csv', index_col=False).iloc[:, 1]"
   ]
  },
  {
   "cell_type": "code",
   "execution_count": 16,
   "id": "43dc92ab",
   "metadata": {},
   "outputs": [
    {
     "data": {
      "text/plain": [
       "<matplotlib.legend.Legend at 0x23f8f57f950>"
      ]
     },
     "execution_count": 16,
     "metadata": {},
     "output_type": "execute_result"
    },
    {
     "data": {
      "image/png": "[encoded data removed]",
      "text/plain": [
       "<Figure size 1600x800 with 1 Axes>"
      ]
     },
     "metadata": {},
     "output_type": "display_data"
    }
   ],
   "source": [
    "plt.figure(figsize=(16, 8))\n",
    "plt.plot(q_logs.cumsum() / (pd.Series(np.arange(q_logs.shape[0]))+1), label=\"QLearning\")\n",
    "plt.plot(sarsa_logs.cumsum() / (pd.Series(np.arange(sarsa_logs.shape[0]))+1), label=\"SARSA\")\n",
    "plt.legend()"
   ]
  },
  {
   "cell_type": "code",
   "execution_count": 16,
   "id": "69d2dad1",
   "metadata": {},
   "outputs": [],
   "source": [
    "env.close() "
   ]
  },
  {
   "cell_type": "code",
   "execution_count": null,
   "id": "a1ab15f2",
   "metadata": {},
   "outputs": [],
   "source": []
  }
 ],
 "metadata": {
  "kernelspec": {
   "display_name": "Python 3",
   "language": "python",
   "name": "python3"
  },
  "language_info": {
   "codemirror_mode": {
    "name": "ipython",
    "version": 3
   },
   "file_extension": ".py",
   "mimetype": "text/x-python",
   "name": "python",
   "nbconvert_exporter": "python",
   "pygments_lexer": "ipython3",
   "version": "3.12.2"
  }
 },
 "nbformat": 4,
 "nbformat_minor": 5
}
